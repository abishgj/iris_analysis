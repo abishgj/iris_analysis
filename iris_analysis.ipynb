{
 "cells": [
  {
   "cell_type": "markdown",
   "metadata": {
    "deletable": true,
    "editable": true
   },
   "source": [
    "# Iris Data Analysis and Prediction"
   ]
  },
  {
   "cell_type": "markdown",
   "metadata": {
    "deletable": true,
    "editable": true
   },
   "source": [
    "As we are all very much familliar with this dataset there isn't much to discuss. Let's go over and do some action!!"
   ]
  },
  {
   "cell_type": "code",
   "execution_count": 9,
   "metadata": {
    "collapsed": true
   },
   "outputs": [],
   "source": [
    "#All the required python packages are imported here and signified their importance for our analysis\n",
    "import pandas as pd #Used to deal with the data\n",
    "import requests as req #Used to get fetch content from web\n",
    "import io #Used to do some basic IO ops\n",
    "import matplotlib.pyplot as plt #Used for plotting behaviours of attributes"
   ]
  },
  {
   "cell_type": "code",
   "execution_count": 21,
   "metadata": {
    "collapsed": false,
    "deletable": true,
    "editable": true
   },
   "outputs": [
    {
     "name": "stdout",
     "output_type": "stream",
     "text": [
      "   sepal_length_cm  sepal_width_cm  petal_length_cm  petal_width_cm  \\\n",
      "0              5.1             3.5              1.4             0.2   \n",
      "1              4.9             3.0              1.4             0.2   \n",
      "2              4.7             3.2              1.3             0.2   \n",
      "3              4.6             3.1              1.5             0.2   \n",
      "4              5.0             3.6              1.4             0.2   \n",
      "\n",
      "    iris_class  \n",
      "0  Iris-setosa  \n",
      "1  Iris-setosa  \n",
      "2  Iris-setosa  \n",
      "3  Iris-setosa  \n",
      "4  Iris-setosa  \n"
     ]
    }
   ],
   "source": [
    "# Now lets pull the data needed for our analysis and prediction work\n",
    "data_url = 'https://archive.ics.uci.edu/ml/machine-learning-databases/iris/iris.data'\n",
    "data = pd.read_csv(data_url, header=None, names=['sepal_length_cm','sepal_width_cm','petal_length_cm','petal_width_cm','iris_class'])\n",
    "print(data.head())"
   ]
  },
  {
   "cell_type": "markdown",
   "metadata": {
    "deletable": true,
    "editable": true
   },
   "source": [
    "# Let's do some insights!"
   ]
  },
  {
   "cell_type": "code",
   "execution_count": 24,
   "metadata": {
    "collapsed": false
   },
   "outputs": [],
   "source": [
    "#As a first step we'll convert the string classes to numeric.\n",
    "data['iris_class'] = data['iris_class'].astype('category')\n",
    "data['iris_class_codes'] = data['iris_class'].cat.codes"
   ]
  },
  {
   "cell_type": "code",
   "execution_count": 30,
   "metadata": {
    "collapsed": false,
    "deletable": true,
    "editable": true
   },
   "outputs": [
    {
     "data": {
      "image/png": "[encoded data removed]",
      "text/plain": [
       "<matplotlib.figure.Figure at 0x10dab33c8>"
      ]
     },
     "metadata": {},
     "output_type": "display_data"
    },
    {
     "data": {
      "image/png": "[encoded data removed]",
      "text/plain": [
       "<matplotlib.figure.Figure at 0x10dd5b160>"
      ]
     },
     "metadata": {},
     "output_type": "display_data"
    }
   ],
   "source": [
    "#Let's see how sepal length and width, petal length and width are driving the iris flower class\n",
    "plt.figure()\n",
    "\n",
    "#Plot sepal length vs flower class\n",
    "plt.subplot(211)\n",
    "plt.scatter(data['sepal_length_cm'], data['iris_class_codes'])\n",
    "plt.xlabel('sepal_length in cm')\n",
    "plt.ylabel('iris_class')\n",
    "\n",
    "#Plot sepal width vs flower class\n",
    "plt.subplot(212)\n",
    "plt.scatter(data['sepal_width_cm'], data['iris_class_codes'])\n",
    "plt.xlabel('sepal_width in cm')\n",
    "plt.ylabel('iris_class')\n",
    "\n",
    "plt.show()\n",
    "\n",
    "#Plot petal length vs flower class\n",
    "plt.subplot(211)\n",
    "plt.scatter(data['petal_length_cm'], data['iris_class_codes'])\n",
    "plt.xlabel('petal_length in cm')\n",
    "plt.ylabel('iris_class')\n",
    "\n",
    "#Plot petal width vs flower class\n",
    "plt.subplot(212)\n",
    "plt.scatter(data['petal_width_cm'], data['iris_class_codes'])\n",
    "plt.xlabel('petal_widgth in cm')\n",
    "plt.ylabel('iris_class')\n",
    "\n",
    "plt.show()"
   ]
  },
  {
   "cell_type": "code",
   "execution_count": null,
   "metadata": {
    "collapsed": true,
    "deletable": true,
    "editable": true
   },
   "outputs": [],
   "source": []
  }
 ],
 "metadata": {
  "kernelspec": {
   "display_name": "Python 3",
   "language": "python",
   "name": "python3"
  },
  "language_info": {
   "codemirror_mode": {
    "name": "ipython",
    "version": 3
   },
   "file_extension": ".py",
   "mimetype": "text/x-python",
   "name": "python",
   "nbconvert_exporter": "python",
   "pygments_lexer": "ipython3",
   "version": "3.5.3"
  }
 },
 "nbformat": 4,
 "nbformat_minor": 0
}
